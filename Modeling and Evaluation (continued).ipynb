{
 "cells": [
  {
   "cell_type": "markdown",
   "metadata": {},
   "source": [
    "Continued from Modeling and Evaluation"
   ]
  },
  {
   "cell_type": "code",
   "execution_count": 1,
   "metadata": {
    "collapsed": true
   },
   "outputs": [],
   "source": [
    "import numpy as np\n",
    "import pandas as pd\n",
    "import matplotlib.pyplot as plt\n",
    "from sklearn.metrics import mean_absolute_error"
   ]
  },
  {
   "cell_type": "code",
   "execution_count": 2,
   "metadata": {
    "collapsed": true
   },
   "outputs": [],
   "source": [
    "train = pd.read_csv(\"train.csv\")\n",
    "y = train[\"loss\"]\n",
    "train = train.ix[:, 1:-1]"
   ]
  },
  {
   "cell_type": "markdown",
   "metadata": {},
   "source": [
    "As we saw previously, **cat1**, **cat2**, ... **cat116** contains categorical features, which were turned into continuous features using one-hot encoding.\n",
    "\n",
    "This may work in theory, but one-hot encoding is very sparse and it practice it may cause memory issues (e.g. even on a desktop with 16GB RAM)\n",
    "\n",
    "Remember that some of these **cat** columns contains a large number of unique values. For example, **cat100** contains 15 unique values:"
   ]
  },
  {
   "cell_type": "code",
   "execution_count": 3,
   "metadata": {
    "collapsed": false
   },
   "outputs": [
    {
     "data": {
      "text/plain": [
       "F    42970\n",
       "I    39933\n",
       "L    19961\n",
       "K    13817\n",
       "G    12935\n",
       "J    12027\n",
       "H    10776\n",
       "A     9402\n",
       "N     7592\n",
       "B     6608\n",
       "O     5697\n",
       "M     5185\n",
       "C      836\n",
       "D      553\n",
       "E       26\n",
       "Name: cat100, dtype: int64"
      ]
     },
     "execution_count": 3,
     "metadata": {},
     "output_type": "execute_result"
    }
   ],
   "source": [
    "train[\"cat100\"].value_counts()"
   ]
  },
  {
   "cell_type": "code",
   "execution_count": 4,
   "metadata": {
    "collapsed": false
   },
   "outputs": [
    {
     "data": {
      "image/png": "[encoded data removed]",
      "text/plain": [
       "<matplotlib.figure.Figure at 0x7fc9800f8f10>"
      ]
     },
     "metadata": {},
     "output_type": "display_data"
    }
   ],
   "source": [
    "mean = y.groupby(train.ix[:, \"cat100\"]).mean()\n",
    "mean = mean.sort_values()\n",
    "mean.plot(kind=\"bar\", color=\"b\", alpha=0.7)\n",
    "plt.show()    "
   ]
  },
  {
   "cell_type": "markdown",
   "metadata": {},
   "source": [
    "As we saw in the Exploratory Data Analysis part, in many cases the categorical label appears to be a good indicator of the target value. As opposed to turning **cat100** into a 15-column matrix in one-hot encoding with 0's and 1's, we could directly turn the categorical value into a real value."
   ]
  },
  {
   "cell_type": "code",
   "execution_count": 5,
   "metadata": {
    "collapsed": false
   },
   "outputs": [
    {
     "data": {
      "text/plain": [
       "cat100\n",
       "A    1746.242170\n",
       "B    3090.589334\n",
       "C    4835.537141\n",
       "D    2253.682134\n",
       "E    4914.809615\n",
       "F    3200.098940\n",
       "G    4678.556561\n",
       "H    3906.754900\n",
       "I    1970.402509\n",
       "J    2063.532038\n",
       "K    2772.549697\n",
       "L    4005.581714\n",
       "M    4767.290926\n",
       "N    3055.795964\n",
       "O    3496.489035\n",
       "Name: loss, dtype: float64"
      ]
     },
     "execution_count": 5,
     "metadata": {},
     "output_type": "execute_result"
    }
   ],
   "source": [
    "# Compute group mean\n",
    "mean= y.groupby(train.ix[:, \"cat100\"]).mean()\n",
    "mean"
   ]
  },
  {
   "cell_type": "code",
   "execution_count": 6,
   "metadata": {
    "collapsed": false
   },
   "outputs": [
    {
     "data": {
      "text/plain": [
       "cat100\n",
       "A    0.034403\n",
       "I    0.038820\n",
       "J    0.040654\n",
       "D    0.044401\n",
       "K    0.054623\n",
       "N    0.060203\n",
       "B    0.060889\n",
       "F    0.063046\n",
       "O    0.068886\n",
       "H    0.076968\n",
       "L    0.078915\n",
       "G    0.092174\n",
       "M    0.093922\n",
       "C    0.095267\n",
       "E    0.096828\n",
       "Name: loss, dtype: float64"
      ]
     },
     "execution_count": 6,
     "metadata": {},
     "output_type": "execute_result"
    }
   ],
   "source": [
    "# Normalize by sum\n",
    "mean = mean.sort_values()\n",
    "mean /= mean.sum()\n",
    "mean\n",
    "# This is essentially a dict from categorical label to group mean"
   ]
  },
  {
   "cell_type": "markdown",
   "metadata": {},
   "source": [
    "Group mean can be used in place of the categorical labels"
   ]
  },
  {
   "cell_type": "code",
   "execution_count": 7,
   "metadata": {
    "collapsed": false
   },
   "outputs": [
    {
     "data": {
      "text/html": [
       "<div>\n",
       "<table border=\"1\" class=\"dataframe\">\n",
       "  <thead>\n",
       "    <tr style=\"text-align: right;\">\n",
       "      <th></th>\n",
       "      <th>cat label</th>\n",
       "      <th>group mean</th>\n",
       "    </tr>\n",
       "  </thead>\n",
       "  <tbody>\n",
       "    <tr>\n",
       "      <th>0</th>\n",
       "      <td>B</td>\n",
       "      <td>0.060889</td>\n",
       "    </tr>\n",
       "    <tr>\n",
       "      <th>1</th>\n",
       "      <td>L</td>\n",
       "      <td>0.078915</td>\n",
       "    </tr>\n",
       "    <tr>\n",
       "      <th>2</th>\n",
       "      <td>L</td>\n",
       "      <td>0.078915</td>\n",
       "    </tr>\n",
       "    <tr>\n",
       "      <th>3</th>\n",
       "      <td>I</td>\n",
       "      <td>0.038820</td>\n",
       "    </tr>\n",
       "    <tr>\n",
       "      <th>4</th>\n",
       "      <td>F</td>\n",
       "      <td>0.063046</td>\n",
       "    </tr>\n",
       "    <tr>\n",
       "      <th>5</th>\n",
       "      <td>J</td>\n",
       "      <td>0.040654</td>\n",
       "    </tr>\n",
       "    <tr>\n",
       "      <th>6</th>\n",
       "      <td>J</td>\n",
       "      <td>0.040654</td>\n",
       "    </tr>\n",
       "    <tr>\n",
       "      <th>7</th>\n",
       "      <td>H</td>\n",
       "      <td>0.076968</td>\n",
       "    </tr>\n",
       "    <tr>\n",
       "      <th>8</th>\n",
       "      <td>C</td>\n",
       "      <td>0.095267</td>\n",
       "    </tr>\n",
       "    <tr>\n",
       "      <th>9</th>\n",
       "      <td>F</td>\n",
       "      <td>0.063046</td>\n",
       "    </tr>\n",
       "  </tbody>\n",
       "</table>\n",
       "</div>"
      ],
      "text/plain": [
       "  cat label  group mean\n",
       "0         B    0.060889\n",
       "1         L    0.078915\n",
       "2         L    0.078915\n",
       "3         I    0.038820\n",
       "4         F    0.063046\n",
       "5         J    0.040654\n",
       "6         J    0.040654\n",
       "7         H    0.076968\n",
       "8         C    0.095267\n",
       "9         F    0.063046"
      ]
     },
     "execution_count": 7,
     "metadata": {},
     "output_type": "execute_result"
    }
   ],
   "source": [
    "pd.concat([train[\"cat100\"],\n",
    "           train.ix[:, \"cat100\"].map(lambda x: mean[x])], axis=1, keys=[\"cat label\", \"group mean\"])[:10]"
   ]
  },
  {
   "cell_type": "markdown",
   "metadata": {},
   "source": [
    "We iterate this process on all cat variables, and turn the cat labels into group means if the number of unique values is at least 4"
   ]
  },
  {
   "cell_type": "code",
   "execution_count": 8,
   "metadata": {
    "collapsed": false
   },
   "outputs": [],
   "source": [
    "train_msged = pd.DataFrame()\n",
    "\n",
    "threshold = 4\n",
    "for i in range(116):\n",
    "    if train.ix[:, i].unique().size <= threshold:\n",
    "        cat_msged = pd.get_dummies(train[\"cat\" + str(i + 1)], prefix=\"cat\" + str(i + 1))\n",
    "    else:\n",
    "        mean= y.groupby(train.ix[:, i]).mean()\n",
    "        mean = mean.sort_values()\n",
    "        mean /= mean.sum()\n",
    "        cat_msged = train.ix[:, i].map(lambda x: mean[x])\n",
    "    \n",
    "    train_msged = pd.concat([train_msged, cat_msged], axis=1)\n",
    "\n",
    "# Combine with the continuous features    \n",
    "train_msged = pd.concat([train_msged, train.ix[:, \"cont1\" : \"cont14\"]], axis=1)    "
   ]
  },
  {
   "cell_type": "code",
   "execution_count": 9,
   "metadata": {
    "collapsed": false
   },
   "outputs": [],
   "source": [
    "X, y = train_msged.values, y.values"
   ]
  },
  {
   "cell_type": "markdown",
   "metadata": {},
   "source": [
    "The number of features is reduced from 1153 down to 246:"
   ]
  },
  {
   "cell_type": "code",
   "execution_count": 10,
   "metadata": {
    "collapsed": false
   },
   "outputs": [
    {
     "data": {
      "text/plain": [
       "(188318, 246)"
      ]
     },
     "execution_count": 10,
     "metadata": {},
     "output_type": "execute_result"
    }
   ],
   "source": [
    "X.shape"
   ]
  },
  {
   "cell_type": "markdown",
   "metadata": {},
   "source": [
    "Split X and y into training and test"
   ]
  },
  {
   "cell_type": "code",
   "execution_count": 11,
   "metadata": {
    "collapsed": false
   },
   "outputs": [],
   "source": [
    "from sklearn.model_selection import train_test_split\n",
    "X_train, X_test, y_train, y_test = train_test_split(X, y, test_size=0.2, random_state=123)\n",
    "\n",
    "del X, y"
   ]
  },
  {
   "cell_type": "markdown",
   "metadata": {},
   "source": [
    "Train an ensemble of 50 MultiLayer Perceptron"
   ]
  },
  {
   "cell_type": "code",
   "execution_count": 12,
   "metadata": {
    "collapsed": true
   },
   "outputs": [],
   "source": [
    "from sklearn.preprocessing import StandardScaler\n",
    "from sklearn.neural_network import MLPRegressor\n",
    "from sklearn.ensemble import BaggingRegressor\n",
    "from sklearn.pipeline import Pipeline\n",
    "\n",
    "scaler = StandardScaler()\n",
    "mlpr_ensemble = BaggingRegressor(MLPRegressor(hidden_layer_sizes=(100,)), n_estimators=50, n_jobs=2)\n",
    "\n",
    "pl = Pipeline(steps=[(\"scaler\", scaler),\n",
    "                     (\"est\", mlpr_ensemble)])"
   ]
  },
  {
   "cell_type": "markdown",
   "metadata": {},
   "source": [
    "Functions to convert target value **y** between linear scale and log scale"
   ]
  },
  {
   "cell_type": "code",
   "execution_count": 13,
   "metadata": {
    "collapsed": true
   },
   "outputs": [],
   "source": [
    "def log1p(x, base=10.):\n",
    "    return np.log(x + 1) / np.log(base)\n",
    "\n",
    "def expm1(x, base=10.):\n",
    "    return base**x - 1."
   ]
  },
  {
   "cell_type": "code",
   "execution_count": 14,
   "metadata": {
    "collapsed": false
   },
   "outputs": [
    {
     "data": {
      "text/plain": [
       "Pipeline(steps=[('scaler', StandardScaler(copy=True, with_mean=True, with_std=True)), ('est', BaggingRegressor(base_estimator=MLPRegressor(activation='relu', alpha=0.0001, batch_size='auto', beta_1=0.9,\n",
       "       beta_2=0.999, early_stopping=False, epsilon=1e-08,\n",
       "       hidden_layer_sizes=(100,), learning_rate=...estimators=50, n_jobs=2, oob_score=False,\n",
       "         random_state=None, verbose=0, warm_start=False))])"
      ]
     },
     "execution_count": 14,
     "metadata": {},
     "output_type": "execute_result"
    }
   ],
   "source": [
    "pl.fit(X_train, log1p(y_train))"
   ]
  },
  {
   "cell_type": "markdown",
   "metadata": {},
   "source": [
    "Performance is slightly better than using one-hot encoding and then applying feature agglomeration"
   ]
  },
  {
   "cell_type": "code",
   "execution_count": 15,
   "metadata": {
    "collapsed": false
   },
   "outputs": [
    {
     "data": {
      "text/plain": [
       "1167.1377782665536"
      ]
     },
     "execution_count": 15,
     "metadata": {},
     "output_type": "execute_result"
    }
   ],
   "source": [
    "y_pred = expm1(pl.predict(X_test))\n",
    "\n",
    "mean_absolute_error(y_test, y_pred)"
   ]
  }
 ],
 "metadata": {
  "anaconda-cloud": {},
  "kernelspec": {
   "display_name": "Python [conda root]",
   "language": "python",
   "name": "conda-root-py"
  },
  "language_info": {
   "codemirror_mode": {
    "name": "ipython",
    "version": 2
   },
   "file_extension": ".py",
   "mimetype": "text/x-python",
   "name": "python",
   "nbconvert_exporter": "python",
   "pygments_lexer": "ipython2",
   "version": "2.7.12"
  }
 },
 "nbformat": 4,
 "nbformat_minor": 1
}
