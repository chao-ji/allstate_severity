{
 "cells": [
  {
   "cell_type": "code",
   "execution_count": 17,
   "metadata": {
    "collapsed": true
   },
   "outputs": [],
   "source": [
    "import numpy as np\n",
    "import pandas as pd\n",
    "import scipy as sp\n",
    "from sklearn.metrics import mean_absolute_error"
   ]
  },
  {
   "cell_type": "markdown",
   "metadata": {},
   "source": [
    "Load data as DataFrame"
   ]
  },
  {
   "cell_type": "code",
   "execution_count": 2,
   "metadata": {
    "collapsed": false
   },
   "outputs": [],
   "source": [
    "data = pd.read_csv(\"train.csv\")\n",
    "y = data[\"loss\"].values\n",
    "data = data.ix[:, 1:-1]"
   ]
  },
  {
   "cell_type": "markdown",
   "metadata": {},
   "source": [
    "Columns with name **cat1** to **cat116** are categorical variables, **cont1** to **cont14** are continuous variables. First turn categorical variables into one-hot encoding."
   ]
  },
  {
   "cell_type": "code",
   "execution_count": 3,
   "metadata": {
    "collapsed": false
   },
   "outputs": [],
   "source": [
    "data_cat = pd.DataFrame()\n",
    "for i in range(116):\n",
    "    data_cat = pd.concat([data_cat, \n",
    "                          pd.get_dummies(data[\"cat\" + str(i + 1)],\n",
    "                                         prefix=\"cat\" + str(i + 1))], axis=1)"
   ]
  },
  {
   "cell_type": "markdown",
   "metadata": {},
   "source": [
    "116 categorical features turned into 1139 continuous features (0's and 1's)"
   ]
  },
  {
   "cell_type": "code",
   "execution_count": 4,
   "metadata": {
    "collapsed": false
   },
   "outputs": [
    {
     "data": {
      "text/plain": [
       "(188318, 1139)"
      ]
     },
     "execution_count": 4,
     "metadata": {},
     "output_type": "execute_result"
    }
   ],
   "source": [
    "data_cat.shape"
   ]
  },
  {
   "cell_type": "markdown",
   "metadata": {},
   "source": [
    "Combine categorical features and continuous features"
   ]
  },
  {
   "cell_type": "code",
   "execution_count": 5,
   "metadata": {
    "collapsed": false
   },
   "outputs": [],
   "source": [
    "data_cont = data.ix[:, \"cont1\" : \"cont14\"]\n",
    "data_full = pd.concat([data_cat, data_cont], axis=1)"
   ]
  },
  {
   "cell_type": "markdown",
   "metadata": {},
   "source": [
    "The full data matrix contains 1153 features in total (1139 + 14)"
   ]
  },
  {
   "cell_type": "code",
   "execution_count": 6,
   "metadata": {
    "collapsed": false
   },
   "outputs": [
    {
     "data": {
      "text/plain": [
       "(188318, 1153)"
      ]
     },
     "execution_count": 6,
     "metadata": {},
     "output_type": "execute_result"
    }
   ],
   "source": [
    "data_full.shape"
   ]
  },
  {
   "cell_type": "code",
   "execution_count": 7,
   "metadata": {
    "collapsed": false
   },
   "outputs": [],
   "source": [
    "X = data_full.values\n",
    "del data_full, data_cat, data_cont"
   ]
  },
  {
   "cell_type": "code",
   "execution_count": 8,
   "metadata": {
    "collapsed": false
   },
   "outputs": [
    {
     "name": "stdout",
     "output_type": "stream",
     "text": [
      "X.shape = (188318, 1153)\n",
      "y.shape = (188318,)\n"
     ]
    }
   ],
   "source": [
    "print \"X.shape =\", X.shape\n",
    "print \"y.shape =\", y.shape"
   ]
  },
  {
   "cell_type": "markdown",
   "metadata": {},
   "source": [
    "Split **X** and **y** into training and test set:"
   ]
  },
  {
   "cell_type": "code",
   "execution_count": 9,
   "metadata": {
    "collapsed": true
   },
   "outputs": [],
   "source": [
    "from sklearn.model_selection import train_test_split\n",
    "X_train, X_test, y_train, y_test = train_test_split(X, y, test_size=0.2, random_state=123)\n",
    "del X, y"
   ]
  },
  {
   "cell_type": "markdown",
   "metadata": {},
   "source": [
    "The first 1139 columns of X are essentially bool-values (0's and 1's) and very sparse. We will apply some dimensionality reducetion technique on the first 1139 columns.\n",
    "\n",
    "We define customized class **MyTfidfTransformer** and **MyFeatureAgglomeration** that operate on the first 1139 columns. \n",
    "\n",
    "One can think of the first 1139 columns of matrix **X** as the bag-of-words representation of 188318 documents, where **X[i, j] = 1** if document **i** contains the **j**th word in the vocabulary of 1139 words.\n",
    "\n",
    "**MyTfidfTransformer** will turn **X[:, :1139]** into Tf-idf represetations, and **MyFeatureAgglomeration** will turn the resulting matrix into fewer columns that corresponds to Feature clusters. We pick the number of clusters as the number of categorical features (116)"
   ]
  },
  {
   "cell_type": "code",
   "execution_count": 10,
   "metadata": {
    "collapsed": true
   },
   "outputs": [],
   "source": [
    "from sklearn.feature_extraction.text import TfidfTransformer\n",
    "\n",
    "class MyTfidfTransformer():\n",
    "    def __init__(self, index=range(1139)):\n",
    "        self.index = index\n",
    "        self.tfidfTransformer = TfidfTransformer()\n",
    "    def fit(self, X, y=None):\n",
    "        self.tfidfTransformer.fit(X[:, self.index], y)\n",
    "        return self\n",
    "    def transform(self, X):\n",
    "        return self.tfidfTransformer.transform(X[:, self.index]).toarray()"
   ]
  },
  {
   "cell_type": "code",
   "execution_count": 11,
   "metadata": {
    "collapsed": false
   },
   "outputs": [],
   "source": [
    "from sklearn.cluster import FeatureAgglomeration\n",
    "\n",
    "class MyFeatureAgglomeration():\n",
    "    def __init__(self, index=range(1139), n_clusters=116):\n",
    "        self.index = index\n",
    "        self.n_clusters = n_clusters\n",
    "        self.agglomerator = FeatureAgglomeration(n_clusters=n_clusters)        \n",
    "    def fit(self, X, y=None):\n",
    "        self.agglomerator.fit(X[:, self.index])\n",
    "        return self\n",
    "    def transform(self, X):\n",
    "        return self.agglomerator.transform(X[:, self.index])"
   ]
  },
  {
   "cell_type": "markdown",
   "metadata": {},
   "source": [
    "As we saw in the Part2 Exploratory Data Analysis, the distribution of target variable **y** is highly skewed. \n",
    "\n",
    "So it needs to be first log-transformed ($y' = \\log (1 + y)$) as the target values for the training algorithm. Conversely, the predicted values by the training algorithm need to be turned back ($y = e^{y'} - 1$ to the original range.) "
   ]
  },
  {
   "cell_type": "code",
   "execution_count": 12,
   "metadata": {
    "collapsed": false
   },
   "outputs": [],
   "source": [
    "# Functions used to transform target values between log and linear scale\n",
    "def log1p(x, base=10.):\n",
    "    return np.log(x + 1) / np.log(base)\n",
    "\n",
    "def expm1(x, base=10.):\n",
    "    return base**x - 1."
   ]
  },
  {
   "cell_type": "markdown",
   "metadata": {},
   "source": [
    "The **MyFeatureAgglomerator** object will turn the 1139 features into 116 feature clusters. So the total number of features is 116 + 14 (cont1 to cont14) = 130.\n",
    "\n",
    "We will use an ensemble of 50 MultiLayer Perceptrons as the estimator"
   ]
  },
  {
   "cell_type": "code",
   "execution_count": 13,
   "metadata": {
    "collapsed": false
   },
   "outputs": [],
   "source": [
    "from sklearn.preprocessing import StandardScaler\n",
    "from sklearn.neural_network import MLPRegressor\n",
    "from sklearn.ensemble import BaggingRegressor\n",
    "from sklearn.pipeline import Pipeline\n",
    "\n",
    "tfidf = MyTfidfTransformer()\n",
    "agglomerator = MyFeatureAgglomeration()\n",
    "scaler = StandardScaler()\n",
    "mlpr_ensemble = BaggingRegressor(MLPRegressor(hidden_layer_sizes=(100,)), n_estimators=50, n_jobs=2)\n",
    "\n",
    "pl = Pipeline(steps=[(\"tf\", tfidf),\n",
    "                     (\"agglo\", agglomerator),\n",
    "                     (\"scaler\", scaler),\n",
    "                     (\"est\", mlpr_ensemble)])"
   ]
  },
  {
   "cell_type": "code",
   "execution_count": 14,
   "metadata": {
    "collapsed": false
   },
   "outputs": [
    {
     "data": {
      "text/plain": [
       "Pipeline(steps=[('tf', <__main__.MyTfidfTransformer instance at 0x7f659ac62098>), ('agglo', <__main__.MyFeatureAgglomeration instance at 0x7f659ac62710>), ('scaler', StandardScaler(copy=True, with_mean=True, with_std=True)), ('est', BaggingRegressor(base_estimator=MLPRegressor(activation='relu', alpha=0.0001...estimators=50, n_jobs=2, oob_score=False,\n",
       "         random_state=None, verbose=0, warm_start=False))])"
      ]
     },
     "execution_count": 14,
     "metadata": {},
     "output_type": "execute_result"
    }
   ],
   "source": [
    "pl.fit(X_train, log1p(y_train))"
   ]
  },
  {
   "cell_type": "markdown",
   "metadata": {},
   "source": [
    "Before evaluating the predicted values needs to be converted using function **expm1**"
   ]
  },
  {
   "cell_type": "code",
   "execution_count": 15,
   "metadata": {
    "collapsed": false
   },
   "outputs": [
    {
     "data": {
      "text/plain": [
       "1183.6729263640307"
      ]
     },
     "execution_count": 15,
     "metadata": {},
     "output_type": "execute_result"
    }
   ],
   "source": [
    "y_pred = expm1(pl.predict(X_test))\n",
    "\n",
    "mean_absolute_error(y_test, y_pred)"
   ]
  },
  {
   "cell_type": "markdown",
   "metadata": {},
   "source": [
    "Plot the prediction versus target:"
   ]
  },
  {
   "cell_type": "code",
   "execution_count": 16,
   "metadata": {
    "collapsed": false
   },
   "outputs": [
    {
     "data": {
      "image/png": "[encoded data removed]",
      "text/plain": [
       "<matplotlib.figure.Figure at 0x7f6598b54d10>"
      ]
     },
     "metadata": {},
     "output_type": "display_data"
    }
   ],
   "source": [
    "import matplotlib.pyplot as plt\n",
    "\n",
    "plt.scatter(np.log(y_test), np.log(y_pred), linewidths=1.0)\n",
    "plt.xlabel(\"Predicted (log-scale)\")\n",
    "plt.ylabel(\"True (log-scale)\")\n",
    "plt.show()"
   ]
  },
  {
   "cell_type": "markdown",
   "metadata": {},
   "source": [
    "Rather than doing agglomeration on the feature space, another way to reduce the dimensionality could be **SVD**:"
   ]
  },
  {
   "cell_type": "code",
   "execution_count": 18,
   "metadata": {
    "collapsed": true
   },
   "outputs": [],
   "source": [
    "from sklearn.decomposition import TruncatedSVD\n",
    "\n",
    "class MyTruncatedSVD():\n",
    "    def __init__(self, index=range(1139), n_components=116):\n",
    "        self.index = index\n",
    "        self.n_components = n_components\n",
    "        self.truncated_svd = TruncatedSVD(n_components=n_components)        \n",
    "    def fit(self, X, y=None):\n",
    "        self.truncated_svd.fit(X[:, self.index])\n",
    "        return self\n",
    "    def transform(self, X):\n",
    "        return self.truncated_svd.transform(X[:, self.index])"
   ]
  },
  {
   "cell_type": "code",
   "execution_count": 20,
   "metadata": {
    "collapsed": false
   },
   "outputs": [],
   "source": [
    "tfidf = MyTfidfTransformer()\n",
    "truncated_svd = MyTruncatedSVD()\n",
    "scaler = StandardScaler()\n",
    "mlpr_ensemble = BaggingRegressor(MLPRegressor(hidden_layer_sizes=(100,)), n_estimators=50, n_jobs=2)\n",
    "\n",
    "pl = Pipeline(steps=[(\"tf\", tfidf),\n",
    "                     (\"dim_red\", truncated_svd),\n",
    "                     (\"scaler\", scaler),\n",
    "                     (\"est\", mlpr_ensemble)])"
   ]
  },
  {
   "cell_type": "code",
   "execution_count": 21,
   "metadata": {
    "collapsed": false
   },
   "outputs": [
    {
     "data": {
      "text/plain": [
       "Pipeline(steps=[('tf', <__main__.MyTfidfTransformer instance at 0x7f6596c767e8>), ('dim_red', <__main__.MyTruncatedSVD instance at 0x7f6596c767a0>), ('scaler', StandardScaler(copy=True, with_mean=True, with_std=True)), ('est', BaggingRegressor(base_estimator=MLPRegressor(activation='relu', alpha=0.0001, batc...estimators=50, n_jobs=2, oob_score=False,\n",
       "         random_state=None, verbose=0, warm_start=False))])"
      ]
     },
     "execution_count": 21,
     "metadata": {},
     "output_type": "execute_result"
    }
   ],
   "source": [
    "pl.fit(X_train, log1p(y_train))"
   ]
  },
  {
   "cell_type": "code",
   "execution_count": 22,
   "metadata": {
    "collapsed": false
   },
   "outputs": [
    {
     "data": {
      "text/plain": [
       "1178.3135235779066"
      ]
     },
     "execution_count": 22,
     "metadata": {},
     "output_type": "execute_result"
    }
   ],
   "source": [
    "y_pred = expm1(pl.predict(X_test))\n",
    "\n",
    "mean_absolute_error(y_test, y_pred)"
   ]
  },
  {
   "cell_type": "code",
   "execution_count": 23,
   "metadata": {
    "collapsed": false
   },
   "outputs": [
    {
     "data": {
      "image/png": "[encoded data removed]",
      "text/plain": [
       "<matplotlib.figure.Figure at 0x7f6596f70590>"
      ]
     },
     "metadata": {},
     "output_type": "display_data"
    }
   ],
   "source": [
    "import matplotlib.pyplot as plt\n",
    "\n",
    "plt.scatter(np.log(y_test), np.log(y_pred), linewidths=1.0)\n",
    "plt.xlabel(\"Predicted (log-scale)\")\n",
    "plt.ylabel(\"True (log-scale)\")\n",
    "plt.show()"
   ]
  }
 ],
 "metadata": {
  "anaconda-cloud": {},
  "kernelspec": {
   "display_name": "Python [conda root]",
   "language": "python",
   "name": "conda-root-py"
  },
  "language_info": {
   "codemirror_mode": {
    "name": "ipython",
    "version": 2
   },
   "file_extension": ".py",
   "mimetype": "text/x-python",
   "name": "python",
   "nbconvert_exporter": "python",
   "pygments_lexer": "ipython2",
   "version": "2.7.12"
  }
 },
 "nbformat": 4,
 "nbformat_minor": 1
}
